{
 "cells": [
  {
   "cell_type": "markdown",
   "metadata": {},
   "source": [
    "# Comparación de Bases de Datos SQL y de Grafos (Neo4j) en Jupyter\n",
    "\n",
    "Este tutorial te guiará a través de la comparación entre una base de datos relacional (SQL con SQLite) y una base de datos de grafos (Neo4j), enfocándonos en la carga de datos y la ejecución de consultas que involucran relaciones complejas. Utilizaremos un pequeño conjunto de datos de películas y actores para ilustrar los conceptos."
   ]
  },
  {
   "cell_type": "markdown",
   "metadata": {},
   "source": [
    "## 1. Preparación del Entorno\n",
    "\n",
    "Para esta práctica, utilizaremos Docker para ejecutar Neo4j, lo que nos permite tener una base de datos funcional rápidamente. También necesitaremos Python y sus librerías."
   ]
  },
  {
   "cell_type": "markdown",
   "metadata": {},
   "source": [
    "### Instalar Docker\n",
    "\n",
    "Docker es una plataforma que permite empaquetar aplicaciones en \"contenedores\". Neo4j se ejecutará dentro de un contenedor Docker.\n",
    "\n",
    "* **Para Windows y macOS:**\n",
    "    1.  Ve a la página oficial de Docker Desktop: [Get Docker Desktop](https://www.docker.com/products/docker-desktop)\n",
    "    2.  Descarga e instala el software.\n",
    "    3.  Abre Docker Desktop para asegurarte de que se inicie correctamente.\n",
    "\n",
    "* **Para Linux:**\n",
    "    1.  Sigue las instrucciones específicas para tu distribución Linux en la documentación oficial de Docker: [Install Docker Engine on Linux](https://docs.docker.com/engine/install/)\n",
    "    2.  Verifica la instalación con `docker run hello-world`."
   ]
  },
  {
   "cell_type": "markdown",
   "metadata": {},
   "source": [
    "### Iniciar Neo4j con Docker\n",
    "\n",
    "Una vez que Docker esté funcionando, puedes iniciar tu base de datos Neo4j con este comando. Ejecútalo en una **terminal separada** o en una celda de shell (con `!`) si tu entorno Jupyter lo permite."
   ]
  },
  {
   "cell_type": "code",
   "execution_count": null,
   "metadata": {},
   "outputs": [],
   "source": [
    "# Ejecuta este comando en una TERMINAL SEPARADA, no en esta celda de Jupyter si bloquea la ejecución.\n",
    "# O usa '!' al inicio si tu entorno lo permite para ejecutar comandos de shell.\n",
    "\n",
    "# !docker run \\\n",
    "#     --name neo4j-tutorial \\\n",
    "#     -p 7474:7474 -p 7687:7687 \\\n",
    "#     -e NEO4J_AUTH=neo4j/testpass \\\n",
    "#     neo4j:latest"
   ]
  },
  {
   "cell_type": "markdown",
   "metadata": {},
   "source": [
    "Verifica que Neo4j esté corriendo accediendo a `http://localhost:7474` en tu navegador. Deberías poder iniciar sesión con `neo4j` / `testpass`."
   ]
  },
  {
   "cell_type": "markdown",
   "metadata": {},
   "source": [
    "### Instalar Python y Librerías\n",
    "\n",
    "Asumimos que Python 3 y `pip` ya están instalados. Si no, instálalos desde [python.org](https://www.python.org/downloads/).\n",
    "\n",
    "Ahora, instala la librería `neo4j` para Python. Si estás usando un entorno virtual (como el que crea Poetry), asegúrate de activarlo primero."
   ]
  },
  {
   "cell_type": "code",
   "execution_count": 1,
   "metadata": {},
   "outputs": [
    {
     "name": "stdout",
     "output_type": "stream",
     "text": [
      "Collecting neo4j\n",
      "  Obtaining dependency information for neo4j from https://files.pythonhosted.org/packages/04/00/1f74089c06aec1fac9390e2300a6a6b2381e0dac281783d64ccca9d681fd/neo4j-5.28.2-py3-none-any.whl.metadata\n",
      "  Downloading neo4j-5.28.2-py3-none-any.whl.metadata (5.9 kB)\n",
      "Collecting pytz (from neo4j)\n",
      "  Obtaining dependency information for pytz from https://files.pythonhosted.org/packages/81/c4/34e93fe5f5429d7570ec1fa436f1986fb1f00c3e0f43a589fe2bbcd22c3f/pytz-2025.2-py2.py3-none-any.whl.metadata\n",
      "  Downloading pytz-2025.2-py2.py3-none-any.whl.metadata (22 kB)\n",
      "Downloading neo4j-5.28.2-py3-none-any.whl (313 kB)\n",
      "\u001b[2K   \u001b[90m━━━━━━━━━━━━━━━━━━━━━━━━━━━━━━━━━━━━━━━━\u001b[0m \u001b[32m313.2/313.2 kB\u001b[0m \u001b[31m4.7 MB/s\u001b[0m eta \u001b[36m0:00:00\u001b[0m:00:01\u001b[0m\n",
      "\u001b[?25hDownloading pytz-2025.2-py2.py3-none-any.whl (509 kB)\n",
      "\u001b[2K   \u001b[90m━━━━━━━━━━━━━━━━━━━━━━━━━━━━━━━━━━━━━━━━\u001b[0m \u001b[32m509.2/509.2 kB\u001b[0m \u001b[31m9.0 MB/s\u001b[0m eta \u001b[36m0:00:00\u001b[0m:00:01\u001b[0m\n",
      "\u001b[?25hInstalling collected packages: pytz, neo4j\n",
      "Successfully installed neo4j-5.28.2 pytz-2025.2\n",
      "\n",
      "\u001b[1m[\u001b[0m\u001b[34;49mnotice\u001b[0m\u001b[1;39;49m]\u001b[0m\u001b[39;49m A new release of pip is available: \u001b[0m\u001b[31;49m23.2.1\u001b[0m\u001b[39;49m -> \u001b[0m\u001b[32;49m25.2\u001b[0m\n",
      "\u001b[1m[\u001b[0m\u001b[34;49mnotice\u001b[0m\u001b[1;39;49m]\u001b[0m\u001b[39;49m To update, run: \u001b[0m\u001b[32;49mpip install --upgrade pip\u001b[0m\n"
     ]
    }
   ],
   "source": [
    "!pip install neo4j"
   ]
  },
  {
   "cell_type": "markdown",
   "metadata": {},
   "source": [
    "## 2. Creación del Dataset de Ejemplo\n",
    "\n",
    "Usaremos un dataset muy pequeño directamente en nuestro código para evitar la gestión de archivos CSV. Esto es útil para demostraciones rápidas."
   ]
  },
  {
   "cell_type": "code",
   "execution_count": 1,
   "metadata": {},
   "outputs": [
    {
     "name": "stdout",
     "output_type": "stream",
     "text": [
      "Dataset de ejemplo creado en memoria.\n"
     ]
    }
   ],
   "source": [
    "# Datos de ejemplo de Películas y Personas\n",
    "persons_data = [\n",
    "    {'id': 'p1', 'name': 'Alice'},\n",
    "    {'id': 'p2', 'name': 'Bob'},\n",
    "    {'id': 'p3', 'name': 'Carol'},\n",
    "    {'id': 'p4', 'name': 'David'}\n",
    "]\n",
    "\n",
    "movies_data = [\n",
    "    {'id': 'm1', 'title': 'Movie A'},\n",
    "    {'id': 'm2', 'title': 'Movie B'},\n",
    "    {'id': 'm3', 'title': 'Movie C'}\n",
    "]\n",
    "\n",
    "relationships_data = [\n",
    "    {'person_name': 'Alice', 'rel_type': 'ACTED_IN', 'movie_title': 'Movie A'},\n",
    "    {'person_name': 'Bob', 'rel_type': 'ACTED_IN', 'movie_title': 'Movie A'},\n",
    "    {'person_name': 'Bob', 'rel_type': 'ACTED_IN', 'movie_title': 'Movie B'},\n",
    "    {'person_name': 'Carol', 'rel_type': 'ACTED_IN', 'movie_title': 'Movie B'},\n",
    "    {'person_name': 'Alice', 'rel_type': 'DIRECTED', 'movie_title': 'Movie C'},\n",
    "    {'person_name': 'David', 'rel_type': 'ACTED_IN', 'movie_title': 'Movie C'}\n",
    "]\n",
    "\n",
    "print(\"Dataset de ejemplo creado en memoria.\")"
   ]
  },
  {
   "cell_type": "markdown",
   "metadata": {},
   "source": [
    "## 3. Implementación y Consulta en SQLite (Base de Datos Relacional)\n",
    "\n",
    "Usaremos SQLite, una base de datos relacional ligera que funciona sin necesidad de un servidor separado (la ejecutaremos en memoria)."
   ]
  },
  {
   "cell_type": "code",
   "execution_count": 2,
   "metadata": {},
   "outputs": [
    {
     "name": "stdout",
     "output_type": "stream",
     "text": [
      "\n",
      "--- SQL (SQLite) Example ---\n",
      "Executing SQL query: 'Find all actors who acted with Bob'\n",
      "Actors who acted with Bob (SQL):\n",
      "- Alice\n",
      "- Carol\n"
     ]
    }
   ],
   "source": [
    "import sqlite3\n",
    "\n",
    "print(\"\\n--- SQL (SQLite) Example ---\")\n",
    "\n",
    "# 1. Crear una base de datos SQLite en memoria\n",
    "conn = sqlite3.connect(':memory:')\n",
    "cursor = conn.cursor()\n",
    "\n",
    "# 2. Definir tablas\n",
    "cursor.execute('''\n",
    "CREATE TABLE Persons (\n",
    "    id TEXT PRIMARY KEY,\n",
    "    name TEXT\n",
    ");\n",
    "''')\n",
    "\n",
    "cursor.execute('''\n",
    "CREATE TABLE Movies (\n",
    "    id TEXT PRIMARY KEY,\n",
    "    title TEXT\n",
    ");\n",
    "''')\n",
    "\n",
    "cursor.execute('''\n",
    "CREATE TABLE Relationships (\n",
    "    person_id TEXT,\n",
    "    movie_id TEXT,\n",
    "    rel_type TEXT,\n",
    "    FOREIGN KEY (person_id) REFERENCES Persons(id),\n",
    "    FOREIGN KEY (movie_id) REFERENCES Movies(id),\n",
    "    PRIMARY KEY (person_id, movie_id, rel_type)\n",
    ");\n",
    "''')\n",
    "\n",
    "# 3. Insertar datos\n",
    "sql_persons = [(p['id'], p['name']) for p in persons_data]\n",
    "sql_movies = [(m['id'], m['title']) for m in movies_data]\n",
    "sql_relationships = []\n",
    "for rel in relationships_data:\n",
    "    person_id = next(p['id'] for p in persons_data if p['name'] == rel['person_name'])\n",
    "    movie_id = next(m['id'] for m in movies_data if m['title'] == rel['movie_title'])\n",
    "    sql_relationships.append((person_id, movie_id, rel['rel_type']))\n",
    "\n",
    "cursor.executemany(\"INSERT INTO Persons VALUES (?,?)\", sql_persons)\n",
    "cursor.executemany(\"INSERT INTO Movies VALUES (?,?)\", sql_movies)\n",
    "cursor.executemany(\"INSERT INTO Relationships VALUES (?,?,?)\", sql_relationships)\n",
    "conn.commit()\n",
    "\n",
    "# 4. Consultar: \"Encuentra todos los actores que actuaron con Bob\"\n",
    "# Esto requiere múltiples JOINS para navegar las relaciones\n",
    "query_sql = \"\"\"\n",
    "SELECT DISTINCT P2.name\n",
    "FROM Persons AS P1\n",
    "JOIN Relationships AS R1 ON P1.id = R1.person_id\n",
    "JOIN Movies AS M ON R1.movie_id = M.id\n",
    "JOIN Relationships AS R2 ON M.id = R2.movie_id\n",
    "JOIN Persons AS P2 ON R2.person_id = P2.id\n",
    "WHERE P1.name = 'Bob' AND R1.rel_type = 'ACTED_IN' AND R2.rel_type = 'ACTED_IN' AND P2.name != 'Bob';\n",
    "\"\"\"\n",
    "\n",
    "print(\"Executing SQL query: 'Find all actors who acted with Bob'\")\n",
    "cursor.execute(query_sql)\n",
    "results_sql = cursor.fetchall()\n",
    "\n",
    "print(\"Actors who acted with Bob (SQL):\")\n",
    "if results_sql:\n",
    "    for row in results_sql:\n",
    "        print(f\"- {row[0]}\")\n",
    "else:\n",
    "    print(\"No co-actors found for Bob.\")\n",
    "\n",
    "conn.close()"
   ]
  },
  {
   "cell_type": "markdown",
   "metadata": {},
   "source": [
    "## 4. Implementación y Consulta en Neo4j (Base de Datos de Grafos)\n",
    "\n",
    "Ahora, realizaremos la misma operación en Neo4j, utilizando el driver Python y el lenguaje de consulta Cypher. Asegúrate de que tu contenedor Neo4j Docker esté corriendo."
   ]
  },
  {
   "cell_type": "code",
   "execution_count": 4,
   "metadata": {},
   "outputs": [
    {
     "name": "stdout",
     "output_type": "stream",
     "text": [
      "\n",
      "--- Neo4j (Graph Database) Example ---\n",
      "Conexión a Neo4j exitosa.\n",
      "Limpiando la base de datos Neo4j...\n",
      "Base de datos Neo4j limpia.\n",
      "Creando nodos...\n",
      "Nodos creados.\n",
      "Creando relaciones...\n",
      "Relaciones creadas en Neo4j.\n",
      "\n",
      "Executing Cypher query: 'Find all actors who acted with Bob'\n",
      "Actors who acted with Bob (Cypher):\n",
      "- Carol\n",
      "- Alice\n"
     ]
    }
   ],
   "source": [
    "from neo4j import GraphDatabase\n",
    "import time\n",
    "\n",
    "print(\"\\n--- Neo4j (Graph Database) Example ---\")\n",
    "\n",
    "# 1. Conexión a la base de datos Neo4j\n",
    "uri = \"bolt://localhost:7687\"\n",
    "username = \"neo4j\"\n",
    "password = \"testpass\"\n",
    "\n",
    "driver = None\n",
    "try:\n",
    "    driver = GraphDatabase.driver(uri, auth=(username, password))\n",
    "    driver.verify_connectivity()\n",
    "    print(\"Conexión a Neo4j exitosa.\")\n",
    "    time.sleep(1) # Pequeña pausa para asegurar la conexión\n",
    "except Exception as e:\n",
    "    print(f\"Error al conectar a Neo4j: {e}\")\n",
    "    print(\"Asegúrate de que Neo4j Docker container esté corriendo (ver sección 1).\")\n",
    "    # Si no se puede conectar, salimos para evitar errores posteriores.\n",
    "    raise e \n",
    "\n",
    "# Función auxiliar para ejecutar consultas Cypher\n",
    "def execute_cypher(query, params=None):\n",
    "    with driver.session() as session:\n",
    "        result = session.run(query, params)\n",
    "        return [record for record in result]\n",
    "\n",
    "# 2. Limpiar la base de datos (para empezar de cero)\n",
    "print(\"Limpiando la base de datos Neo4j...\")\n",
    "execute_cypher(\"MATCH (n) DETACH DELETE n\")\n",
    "print(\"Base de datos Neo4j limpia.\")\n",
    "\n",
    "# 3. Crear nodos de Personas y Películas\n",
    "print(\"Creando nodos...\")\n",
    "for p in persons_data:\n",
    "    execute_cypher(\"CREATE (p:Person {id: $id, name: $name})\", p)\n",
    "for m in movies_data:\n",
    "    execute_cypher(\"CREATE (m:Movie {id: $id, title: $title})\", m)\n",
    "print(\"Nodos creados.\")\n",
    "\n",
    "# 4. Crear relaciones\n",
    "print(\"Creando relaciones...\")\n",
    "for rel in relationships_data:\n",
    "    query_rel = f\"\"\"\n",
    "    MATCH (p:Person {{name: $person_name}}),\n",
    "          (m:Movie {{title: $movie_title}})\n",
    "    CREATE (p)-[:{rel['rel_type']}]->(m)\n",
    "    \"\"\"\n",
    "    execute_cypher(query_rel, {'person_name': rel['person_name'], 'movie_title': rel['movie_title']})\n",
    "print(\"Relaciones creadas en Neo4j.\")\n",
    "\n",
    "# 5. Consultar: \"Encuentra todos los actores que actuaron con Bob\"\n",
    "# Esto utiliza la sintaxis de patrones de grafos para navegar relaciones\n",
    "query_cypher = \"\"\"\n",
    "MATCH (bob:Person {name: 'Bob'})-[:ACTED_IN]->(movie:Movie)<-[:ACTED_IN]-(co_actor:Person)\n",
    "WHERE co_actor.name <> 'Bob'\n",
    "RETURN DISTINCT co_actor.name AS CoActor\n",
    "\"\"\"\n",
    "\n",
    "print(\"\\nExecuting Cypher query: 'Find all actors who acted with Bob'\")\n",
    "results_cypher = execute_cypher(query_cypher)\n",
    "\n",
    "print(\"Actors who acted with Bob (Cypher):\")\n",
    "if results_cypher:\n",
    "    for record in results_cypher:\n",
    "        print(f\"- {record['CoActor']}\")\n",
    "else:\n",
    "    print(\"No co-actors found for Bob.\")\n",
    "\n",
    "# 6. Cerrar el driver\n",
    "if driver:\n",
    "    driver.close()"
   ]
  },
  {
   "cell_type": "markdown",
   "metadata": {},
   "source": [
    "## 5. Discusión y Comparación\n",
    "\n",
    "Después de ejecutar ambos códigos, observa y compara los resultados y la sintaxis:"
   ]
  },
  {
   "cell_type": "markdown",
   "metadata": {},
   "source": [
    "### Legibilidad y Complejidad de la Consulta\n",
    "\n",
    "* **SQL (Relacional):** La consulta para \"actores que actuaron con Bob\" requiere múltiples `JOIN`s (`Persons` -> `Relationships` -> `Movies` -> `Relationships` -> `Persons`). A medida que las relaciones se vuelven más profundas o complejas, la consulta SQL puede volverse muy verbosa y difícil de leer y mantener.\n",
    "    ```sql\n",
    "    SELECT DISTINCT P2.name\n",
    "    FROM Persons AS P1\n",
    "    JOIN Relationships AS R1 ON P1.id = R1.person_id\n",
    "    JOIN Movies AS M ON R1.movie_id = M.id\n",
    "    JOIN Relationships AS R2 ON M.id = R2.movie_id\n",
    "    JOIN Persons AS P2 ON R2.person_id = P2.id\n",
    "    WHERE P1.name = 'Bob' AND R1.rel_type = 'ACTED_IN' AND R2.rel_type = 'ACTED_IN' AND P2.name != 'Bob';\n",
    "    ```\n",
    "\n",
    "* **Cypher (Grafos):** La misma consulta en Cypher es mucho más intuitiva y expresa directamente el patrón de relaciones:\n",
    "    ```cypher\n",
    "    MATCH (bob:Person {name: 'Bob'})-[:ACTED_IN]->(movie:Movie)<-[:ACTED_IN]-(co_actor:Person)\n",
    "    WHERE co_actor.name <> 'Bob'\n",
    "    RETURN DISTINCT co_actor.name AS CoActor\n",
    "    ```\n",
    "    El patrón `(nodo1)-[:RELACION]->(nodo2)` refleja de forma natural cómo las entidades están conectadas en el mundo real."
   ]
  },
  {
   "cell_type": "markdown",
   "metadata": {},
   "source": [
    "### Modelo de Datos\n",
    "\n",
    "* **SQL:** Las relaciones se representan indirectamente a través de claves foráneas y tablas de unión. Para \"navegar\" de una entidad a otra, se requiere un `JOIN`.\n",
    "* **Neo4j:** Las relaciones son entidades de primera clase, con sus propios tipos y dirección. Esto hace que el modelo sea más cercano al problema de dominio y facilita la navegación de las conexiones."
   ]
  },
  {
   "cell_type": "markdown",
   "metadata": {},
   "source": [
    "### Rendimiento (Conceptual)\n",
    "\n",
    "* Para consultas que implican muchos \"saltos\" a través de relaciones (a menudo llamadas \"multi-hop queries\"), las bases de datos de grafos como Neo4j suelen ser más eficientes. Esto se debe a que las relaciones se almacenan como punteros directos entre nodos, lo que permite un recorrido muy rápido del grafo sin las costosas operaciones de `JOIN` de las bases de datos relacionales.\n",
    "\n",
    "En resumen, mientras que SQL es excelente para datos tabulares y relaciones bien definidas, las bases de datos de grafos brillan cuando la **conectividad y las relaciones** son el aspecto más importante de tus datos, ofreciendo una mayor expresividad y eficiencia para consultas complejas en redes."
   ]
  }
 ],
 "metadata": {
  "kernelspec": {
   "display_name": ".venv",
   "language": "python",
   "name": "python3"
  },
  "language_info": {
   "codemirror_mode": {
    "name": "ipython",
    "version": 3
   },
   "file_extension": ".py",
   "mimetype": "text/x-python",
   "name": "python",
   "nbconvert_exporter": "python",
   "pygments_lexer": "ipython3",
   "version": "3.11.7"
  }
 },
 "nbformat": 4,
 "nbformat_minor": 5
}
